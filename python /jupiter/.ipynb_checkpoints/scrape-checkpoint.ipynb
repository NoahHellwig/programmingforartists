{
 "cells": [
  {
   "cell_type": "code",
   "execution_count": 6,
   "metadata": {},
   "outputs": [],
   "source": [
    "# importera 4 bibliotek BeautifulSoup, re, requests och urllib. \n",
    "from bs4 import BeautifulSoup\n",
    "import re\n",
    "import requests\n",
    "import urllib"
   ]
  },
  {
   "cell_type": "code",
   "execution_count": 13,
   "metadata": {},
   "outputs": [],
   "source": [
    "# som variabler ett counterindex och url som vi skall hämta bilder från.\n",
    "index = 1; \n",
    "url = \"https://en.wikipedia.org/wiki/Modern_art\"\n",
    "# sen gör vi en webb-request \n",
    "r  = requests.get(url)\n",
    "# och tar ut själva sidans innehåll som vi kallar data\n",
    "data = r.text\n",
    "# med BeautifulSoup får vi tillgång till alla taggar i DOM:en\n",
    "soup = BeautifulSoup(data, \"lxml\")\n",
    "# print soup"
   ]
  },
  {
   "cell_type": "code",
   "execution_count": 15,
   "metadata": {},
   "outputs": [
    {
     "name": "stdout",
     "output_type": "stream",
     "text": [
      "https://upload.wikimedia.org/wikipedia/commons/1/10/Van_Gogh_-_Country_road_in_Provence_by_night.jpg\n",
      "https://upload.wikimedia.org/wikipedia/commons/d/d7/Henri_de_Toulouse-Lautrec_028.jpg\n",
      "https://upload.wikimedia.org/wikipedia/commons/1/1a/Paul_C%C3%A9zanne_047.jpg\n",
      "https://upload.wikimedia.org/wikipedia/commons/0/09/Paul_Gauguin-_Manao_tupapau_%28The_Spirit_of_the_Dead_Keep_Watch%29.JPG\n",
      "https://upload.wikimedia.org/wikipedia/commons/1/19/Georges_Seurat_-_Les_Poseuses.jpg\n",
      "https://upload.wikimedia.org/wikipedia/commons/c/c5/Edvard_Munch%2C_1893%2C_The_Scream%2C_oil%2C_tempera_and_pastel_on_cardboard%2C_91_x_73_cm%2C_National_Gallery_of_Norway.jpg\n",
      "https://upload.wikimedia.org/wikipedia/en/c/ca/Family_of_Saltimbanques.JPG\n",
      "https://upload.wikimedia.org/wikipedia/en/e/ea/Jean_Metzinger%2C_1907%2C_Paysage_color%C3%A9_aux_oiseaux_aquatiques%2C_oil_on_canvas%2C_74_x_99_cm%2C_Mus%C3%A9e_d%E2%80%99Art_Moderne_de_la_Ville_de_Paris.jpg\n",
      "https://upload.wikimedia.org/wikipedia/commons/5/58/Egon_Schiele_-_Gustav_Klimt_im_blauen_Malerkittel_-_1913.jpeg\n",
      "https://upload.wikimedia.org/wikipedia/en/e/e7/Chagall_IandTheVillage.jpg\n",
      "https://upload.wikimedia.org/wikipedia/commons/5/57/Malevich.black-square.jpg\n",
      "https://upload.wikimedia.org/wikipedia/en/d/dd/Marcel_Duchamp%2C_1917%2C_Fountain%2C_photograph_by_Alfred_Stieglitz.jpg\n",
      "https://upload.wikimedia.org/wikipedia/en/3/39/Kandinsky_white.jpg\n",
      "https://upload.wikimedia.org/wikipedia/commons/9/90/Edouard_Manet_-_Luncheon_on_the_Grass_-_Google_Art_Project.jpg\n",
      "https://upload.wikimedia.org/wikipedia/commons/a/af/Van_Gogh_-_la_courtisane.jpg\n",
      "https://upload.wikimedia.org/wikipedia/commons/8/84/Vincent_van_Gogh_-_Bloeiende_pruimenboomgaard-_naar_Hiroshige_-_Google_Art_Project.jpg\n",
      "https://upload.wikimedia.org/wikipedia/commons/5/5f/Van_Gogh_-_Portrait_of_Pere_Tanguy_1887-8.JPG\n",
      "https://upload.wikimedia.org/wikipedia/en/4/4c/Les_Demoiselles_d%27Avignon.jpg\n",
      "https://upload.wikimedia.org/wikipedia/en/2/2e/La_danse_%28I%29_by_Matisse.jpg\n",
      "https:/static/images\n",
      "https:/static/images\n"
     ]
    }
   ],
   "source": [
    "# med soup-objektet kan vi sedan hämta de aktuella bilderna \n",
    "for thumb in soup.find_all('img'):\n",
    "    # kolla att bilden har en lank \n",
    "    # här måste jag kolla hur dom:en ser ut på wikipedia\n",
    "    if thumb.parent.name == 'a':\n",
    "        imglink = thumb.get('src')\n",
    "        imglink = \"https:\"+imglink\n",
    "        # ta bort temp i lanken \n",
    "        imglink = re.sub(r'/thumb', '', imglink)\n",
    "        # dela upp lanken i tva delar fran sista slashen\n",
    "        parts = imglink.rsplit('/',1)\n",
    "        # ta den forsta delen\n",
    "        imglink = parts[0]\n",
    "        print imglink\n",
    "\n",
    "        if len(imglink) > 20: \n",
    "            filename = \"img\" + str(index) + \".jpg\"\n",
    "            filepath = \"img/\"+filename\n",
    "            urllib.urlretrieve(imglink, filepath)\n",
    "            index = index + 1\n",
    "\n",
    "    if index > 21: \n",
    "        break"
   ]
  },
  {
   "cell_type": "code",
   "execution_count": null,
   "metadata": {},
   "outputs": [],
   "source": []
  }
 ],
 "metadata": {
  "kernelspec": {
   "display_name": "Python 2",
   "language": "python",
   "name": "python2"
  },
  "language_info": {
   "codemirror_mode": {
    "name": "ipython",
    "version": 2
   },
   "file_extension": ".py",
   "mimetype": "text/x-python",
   "name": "python",
   "nbconvert_exporter": "python",
   "pygments_lexer": "ipython2",
   "version": "2.7.15"
  }
 },
 "nbformat": 4,
 "nbformat_minor": 2
}

{
 "cells": [
  {
   "cell_type": "code",
   "execution_count": 6,
   "metadata": {},
   "outputs": [],
   "source": [
    "# importera 4 bibliotek BeautifulSoup, re, requests och urllib. \n",
    "from bs4 import BeautifulSoup\n",
    "import re\n",
    "import requests\n",
    "import urllib"
   ]
  },
  {
   "cell_type": "code",
   "execution_count": 7,
   "metadata": {},
   "outputs": [],
   "source": [
    "# som variabler ett counterindex och url som vi skall hämta bilder från.\n",
    "index = 1; \n",
    "url = \"https://en.wikipedia.org/wiki/Modern_art\"\n",
    "# sen gör vi en webb-request \n",
    "r  = requests.get(url)\n",
    "# och tar ut själva sidans innehåll som vi kallar data\n",
    "data = r.text\n",
    "# med BeautifulSoup får vi tillgång till alla taggar i DOM:en\n",
    "soup = BeautifulSoup(data)\n",
    "#print soup"
   ]
  },
  {
   "cell_type": "code",
   "execution_count": 9,
   "metadata": {},
   "outputs": [
    {
     "name": "stdout",
     "output_type": "stream",
     "text": [
      "https://upload.wikimedia.org/wikipedia/commons/1/10/Van_Gogh_-_Country_road_in_Provence_by_night.jpg\n"
     ]
    }
   ],
   "source": [
    "# med soup-objektet kan vi sedan hämta de aktuella bilderna \n",
    "for thumb in soup.find_all('img'):\n",
    "    # kolla att bilden har en lank \n",
    "    # här måste jag kolla hur dom:en ser ut på wikipedia\n",
    "    if thumb.parent.name == 'a':\n",
    "        imglink = thumb.get('src')\n",
    "        imglink = \"https:\"+imglink\n",
    "        # ta bort temp i lanken \n",
    "        imglink = re.sub(r'/thumb', '', imglink)\n",
    "        # dela upp lanken i tva delar fran sista slashen\n",
    "        parts = imglink.rsplit('/',1)\n",
    "        # ta den forsta delen\n",
    "        imglink = parts[0]\n",
    "        print imglink\n",
    "\n",
    "        if len(imglink) > 20: \n",
    "            filename = \"img\" + str(index) + \".jpg\"\n",
    "            filepath = \"img/\"+filename\n",
    "            urllib.urlretrieve(imglink, filepath)\n",
    "            index = index + 1\n",
    "\n",
    "    if index > 1: \n",
    "        break"
   ]
  },
  {
   "cell_type": "code",
   "execution_count": null,
   "metadata": {},
   "outputs": [],
   "source": []
  }
 ],
 "metadata": {
  "kernelspec": {
   "display_name": "Python 2",
   "language": "python",
   "name": "python2"
  },
  "language_info": {
   "codemirror_mode": {
    "name": "ipython",
    "version": 2
   },
   "file_extension": ".py",
   "mimetype": "text/x-python",
   "name": "python",
   "nbconvert_exporter": "python",
   "pygments_lexer": "ipython2",
   "version": "2.7.10"
  }
 },
 "nbformat": 4,
 "nbformat_minor": 2
}

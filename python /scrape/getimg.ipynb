{
 "cells": [
  {
   "cell_type": "code",
   "execution_count": 1,
   "metadata": {},
   "outputs": [],
   "source": [
    "#!/usr/bin/python\n",
    "# -*- coding: UTF-8 -*-\n",
    "# importera 4 bibliotek BeautifulSoup, re, requests och urllib. \n",
    "\n",
    "from bs4 import BeautifulSoup\n",
    "import re\n",
    "import requests\n",
    "import urllib2\n",
    "import shutil"
   ]
  },
  {
   "cell_type": "code",
   "execution_count": 2,
   "metadata": {},
   "outputs": [],
   "source": [
    "# som variabler ett counterindex och url som vi skall hämta bilder från.\n",
    "index = 1; \n",
    "url = \"https://en.wikipedia.org/wiki/20th-century_Western_painting\""
   ]
  },
  {
   "cell_type": "code",
   "execution_count": 4,
   "metadata": {},
   "outputs": [],
   "source": [
    "# sen gör vi en webrequest \n",
    "r  = requests.get(url)\n",
    "\n",
    "# och tar ut själva sidans innehåll som vi kallar data\n",
    "data = r.text\n",
    "# med BeautifulSoup får vi tillgång till alla taggar i DOM:en\n",
    "soup = BeautifulSoup(data, \"lxml\")\n",
    "# med soupobjektet kan vi sedan hämta de aktuella bilderna "
   ]
  },
  {
   "cell_type": "code",
   "execution_count": null,
   "metadata": {},
   "outputs": [],
   "source": [
    "for thumb in soup.find_all('img'):\n",
    "    # kolla att bilden har en lank\n",
    "    if thumb.parent.name == 'a':\n",
    "        imglink = thumb.get('src')\n",
    "        imglink = \"https:\"+imglink\n",
    "        # ta bort temp i lanken \n",
    "        imglink = re.sub(r'/thumb', '', imglink)\n",
    "        # dela upp lanken i tva delar fran sista slashen\n",
    "        parts = imglink.rsplit('/',1)\n",
    "        # ta den forsta delen\n",
    "        imglink = parts[0]\n",
    "        print imglink\n",
    "\n",
    "        if len(imglink) > 20: \n",
    "            filename = \"img\" + str(index) + \".jpg\"\n",
    "            filepath = \"img/\"+filename\n",
    "            #urllib.urlretrieve(imglink, filename )\n",
    "            #response = urllib2.urlopen(imglink, verify=False)\n",
    "            response = requests.get(imglink, stream=True)\n",
    "            if r.status_code == 200:\n",
    "                   with open(filename, 'wb') as f:\n",
    "                        f.write(response.content) \n",
    "           \n",
    "            index = index + 1"
   ]
  }
 ],
 "metadata": {
  "kernelspec": {
   "display_name": "Python 2",
   "language": "python",
   "name": "python2"
  },
  "language_info": {
   "codemirror_mode": {
    "name": "ipython",
    "version": 2
   },
   "file_extension": ".py",
   "mimetype": "text/x-python",
   "name": "python",
   "nbconvert_exporter": "python",
   "pygments_lexer": "ipython2",
   "version": "2.7.15"
  }
 },
 "nbformat": 4,
 "nbformat_minor": 2
}
